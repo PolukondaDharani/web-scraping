{
 "cells": [
  {
   "cell_type": "code",
   "execution_count": 1,
   "id": "9ce809e8",
   "metadata": {},
   "outputs": [],
   "source": [
    "from selenium import webdriver\n",
    "from selenium.webdriver.support.ui import WebDriverWait\n",
    "from selenium.webdriver.support import expected_conditions as EC\n",
    "from selenium.webdriver.common.by import By\n",
    "import time\n",
    "import csv"
   ]
  },
  {
   "cell_type": "code",
   "execution_count": 2,
   "id": "32887b94",
   "metadata": {},
   "outputs": [
    {
     "name": "stderr",
     "output_type": "stream",
     "text": [
      "C:\\Users\\jyots\\AppData\\Local\\Temp\\ipykernel_8740\\459753255.py:3: DeprecationWarning: executable_path has been deprecated, please pass in a Service object\n",
      "  driver = webdriver.Chrome(executable_path = path)\n"
     ]
    }
   ],
   "source": [
    "path = r\"C:\\Users\\jyots\\Downloads\\chromedriver_win32\\chromedriver.exe\"\n",
    "\n",
    "driver = webdriver.Chrome(executable_path = path)\n",
    "wait = WebDriverWait(driver, 20)"
   ]
  },
  {
   "cell_type": "code",
   "execution_count": null,
   "id": "5900542a",
   "metadata": {},
   "outputs": [],
   "source": [
    "# Update the URL of Naukri Page! ( Make Sure that the page link which you're putting must be a job listing page and it must have Next page buttons. )\n",
    "driver.get(\"https://www.naukri.com/data-science-jobs?k=data%20science&nignbevent_src=jobsearchDeskGNB\")\n",
    "\n",
    "count = 1  # Update the Number of Vacancy count you want to scrape.\n",
    "\n",
    "index, new_index, i = '0', 1, 0  # This the the index variable of the elements from which data will be Scraped\n",
    "# Xpaths of the various element from which data will be scraped.\n",
    "link_xpath = '(//*[@class=\"jobTuple bgWhite br4 mb-8\"])['+index+']/div/div/a'\n",
    "l=[]\n",
    "while i < count:\n",
    "\n",
    "    for j in range(20):\n",
    "        # Here we're replacing the Old index count of Xpath with New Index count.\n",
    "        temp_index = str(new_index).zfill(2)  # Zfill(2) is used to put zeros to the left of any digit till 2 decimal places.\n",
    "        link_xpath = link_xpath.replace(index, temp_index)\n",
    "        index = str(new_index).zfill(2)\n",
    "        try:\n",
    "            link = wait.until(EC.presence_of_element_located((By.XPATH, link_xpath))).get_attribute('href')\n",
    "            l.append(link)\n",
    "            print(link)\n",
    "        except:\n",
    "            link = \"NULL\"\n",
    "        new_index += 1\n",
    "        i += 1\n",
    "        print(\"--------------------------- \"+str(i)+\" ----------------------------------\")\n",
    "        # Writing all the Scrapped data into CSV file.\n",
    "        if i >= count:\n",
    "            break\n",
    "    if i >= count:\n",
    "        break\n",
    "    wait.until(EC.element_to_be_clickable((By.XPATH, '//*[text() = \"Next\"]'))).click()\n",
    "    new_index = 1\n"
   ]
  },
  {
   "cell_type": "code",
   "execution_count": null,
   "id": "27406d81",
   "metadata": {},
   "outputs": [],
   "source": [
    "import pandas as pd\n",
    "import numpy as np\n",
    "list1=pd.DataFrame(l)"
   ]
  },
  {
   "cell_type": "code",
   "execution_count": null,
   "id": "a742a11c",
   "metadata": {},
   "outputs": [],
   "source": [
    "list1.to_csv(r\"C:\\Users\\jyots\\Desktop\\jyotsna\\ML\\links_of_datascience.csv\")"
   ]
  },
  {
   "cell_type": "code",
   "execution_count": null,
   "id": "6ba09c06",
   "metadata": {},
   "outputs": [],
   "source": [
    "from tqdm.notebook import tqdm\n",
    "import pandas as pd\n",
    "import numpy as np\n",
    "df=pd.read_csv(r\"C:\\Users\\jyots\\Desktop\\jyotsna\\ML\\links_of_datascience.csv\")\n",
    "tam_data = []\n",
    "for i in tqdm(df[0:]):\n",
    "    try:\n",
    "        d={}\n",
    "        driver.get(i)\n",
    "        try:\n",
    "            title_tag=driver.find_element(\"xpath\",\"//div[@class='jd-top-head']/header/h1\").text\n",
    "            d['title']=title_tag\n",
    "        except:\n",
    "            d['title']='nan'\n",
    "        try:\n",
    "            company=driver.find_element(\"xpath\",\"//div[@class='jd-header-comp-name']\").text\n",
    "            d['company']=company\n",
    "        except:\n",
    "            d['company']='nan'\n",
    "        try:\n",
    "            skills=driver.find_element(\"xpath\",\"//div[@class='key-skill']/div[2]\").text\n",
    "            d['key_skills']=skills\n",
    "        except:\n",
    "            d['key_skills']='nan'\n",
    "        try:\n",
    "            loc1=driver.find_element(\"xpath\",\"//div[@class='other-details']/div[2]\").text\n",
    "            d['type']=loc1\n",
    "        except:\n",
    "            d['type']='nan'\n",
    "        try:\n",
    "            description=driver.find_element(\"xpath\",\"//section[@class='job-desc']/div\").text\n",
    "            d['job_description']=description\n",
    "        \n",
    "        except:\n",
    "            d['job_description']='nan'\n",
    "\n",
    "        tam_data.append(d)\n",
    "        \n",
    "    except:\n",
    "        pass"
   ]
  },
  {
   "cell_type": "code",
   "execution_count": null,
   "id": "5124dc90",
   "metadata": {},
   "outputs": [],
   "source": [
    "s=pd.DataFrame(tam_data)\n",
    "print(s)"
   ]
  }
 ],
 "metadata": {
  "kernelspec": {
   "display_name": "Python 3 (ipykernel)",
   "language": "python",
   "name": "python3"
  },
  "language_info": {
   "codemirror_mode": {
    "name": "ipython",
    "version": 3
   },
   "file_extension": ".py",
   "mimetype": "text/x-python",
   "name": "python",
   "nbconvert_exporter": "python",
   "pygments_lexer": "ipython3",
   "version": "3.9.13"
  }
 },
 "nbformat": 4,
 "nbformat_minor": 5
}
